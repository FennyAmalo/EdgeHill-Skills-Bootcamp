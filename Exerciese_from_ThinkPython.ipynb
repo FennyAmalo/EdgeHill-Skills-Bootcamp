{
  "nbformat": 4,
  "nbformat_minor": 0,
  "metadata": {
    "colab": {
      "provenance": [],
      "authorship_tag": "ABX9TyPBjh+rJKOmkgmetcopTTY5",
      "include_colab_link": true
    },
    "kernelspec": {
      "name": "python3",
      "display_name": "Python 3"
    },
    "language_info": {
      "name": "python"
    }
  },
  "cells": [
    {
      "cell_type": "markdown",
      "metadata": {
        "id": "view-in-github",
        "colab_type": "text"
      },
      "source": [
        "<a href=\"https://colab.research.google.com/github/FennyAmalo/EdgeHill-Skills-Bootcamp/blob/main/Exerciese_from_ThinkPython.ipynb\" target=\"_parent\"><img src=\"https://colab.research.google.com/assets/colab-badge.svg\" alt=\"Open In Colab\"/></a>"
      ]
    },
    {
      "cell_type": "code",
      "source": [
        "# The below are example codes from Chapter 2 of the book\n",
        "\n",
        "x + 1\n",
        "print(x)\n"
      ],
      "metadata": {
        "colab": {
          "base_uri": "https://localhost:8080/"
        },
        "id": "RwVh-3gfLuCW",
        "outputId": "7c7bfcc4-d605-4394-96da-aba25c77e75f"
      },
      "execution_count": null,
      "outputs": [
        {
          "output_type": "stream",
          "name": "stdout",
          "text": [
            "5\n"
          ]
        }
      ]
    },
    {
      "cell_type": "code",
      "source": [
        "# Exercise 2.2 no. 1\n",
        "\n",
        "r = 5\n",
        "rad = (4/3)* (3.14 * (r**3))\n",
        "print(rad)\n",
        "\n"
      ],
      "metadata": {
        "id": "W8-CLNF7NK-c",
        "colab": {
          "base_uri": "https://localhost:8080/"
        },
        "outputId": "f2b75ca5-5520-4ca1-a0c5-311a10d1dfd7"
      },
      "execution_count": null,
      "outputs": [
        {
          "output_type": "stream",
          "name": "stdout",
          "text": [
            "523.3333333333333\n"
          ]
        }
      ]
    },
    {
      "cell_type": "code",
      "source": [
        "# Exercise 2.2 no. 2\n",
        "\n",
        "# book_price = 24.95\n",
        "# discount = 0.4\n",
        "# shipping_cost_init = 3\n",
        "# shipping_cost_add = 0.75\n",
        "# n = 60\n",
        "total_cost = ((0.6 * 24.95) * 60) + 3 + (0.75 * 59)\n",
        "print(total_cost)"
      ],
      "metadata": {
        "colab": {
          "base_uri": "https://localhost:8080/"
        },
        "id": "GDEtmKTfPb6P",
        "outputId": "4fafec40-5101-4168-e3c0-f19772d72dbc"
      },
      "execution_count": null,
      "outputs": [
        {
          "output_type": "stream",
          "name": "stdout",
          "text": [
            "945.4499999999999\n"
          ]
        }
      ]
    },
    {
      "cell_type": "code",
      "source": [
        "# Exercise 2.2 no. 3\n",
        "\n",
        "''' \n",
        "the details:\n",
        "leave = 6:52\n",
        "runslow = 8:15 - 2 miles\n",
        "runfast = 7:12  - 3 miles\n",
        "'''\n",
        "\n",
        "# start counting \n",
        "\n",
        "n = (8.25 * 2) + (7.2 * 3)\n",
        "print(n)\n",
        "\n",
        "# gethome_time = 6:52 + 38.1 minute = 7:30 am\n",
        "# start converting time into minutes and seconds\n"
      ],
      "metadata": {
        "colab": {
          "base_uri": "https://localhost:8080/"
        },
        "id": "vAhBIsX7Qs6P",
        "outputId": "21edf775-9b5c-41e8-bc27-c5b19192f1c6"
      },
      "execution_count": null,
      "outputs": [
        {
          "output_type": "stream",
          "name": "stdout",
          "text": [
            "38.1\n"
          ]
        }
      ]
    },
    {
      "cell_type": "code",
      "source": [
        "# The below are example codes from Chapter 1 of the book\n",
        "\n",
        "print(\"Hi Bootcamp\")"
      ],
      "metadata": {
        "colab": {
          "base_uri": "https://localhost:8080/"
        },
        "id": "mfm1kcO-y9kS",
        "outputId": "58281c3f-ab97-4275-f78c-9387b25d2476"
      },
      "execution_count": null,
      "outputs": [
        {
          "output_type": "stream",
          "name": "stdout",
          "text": [
            "Hi Bootcamp\n"
          ]
        }
      ]
    },
    {
      "cell_type": "code",
      "source": [
        "x = 5 + 2 - 3 \n",
        "print(x)\n"
      ],
      "metadata": {
        "colab": {
          "base_uri": "https://localhost:8080/"
        },
        "id": "y1UdPL_xzFS2",
        "outputId": "a950384e-0d79-47c8-9bb8-30993f150169"
      },
      "execution_count": null,
      "outputs": [
        {
          "output_type": "stream",
          "name": "stdout",
          "text": [
            "4\n"
          ]
        }
      ]
    },
    {
      "cell_type": "code",
      "source": [
        "y = x + 8 \n",
        "print(y)\n",
        "\n"
      ],
      "metadata": {
        "colab": {
          "base_uri": "https://localhost:8080/"
        },
        "id": "klodkOsWzgZn",
        "outputId": "3dc53067-f6b6-46ef-a8e2-a267d284eb9c"
      },
      "execution_count": null,
      "outputs": [
        {
          "output_type": "stream",
          "name": "stdout",
          "text": [
            "12\n"
          ]
        }
      ]
    },
    {
      "cell_type": "code",
      "execution_count": null,
      "metadata": {
        "colab": {
          "base_uri": "https://localhost:8080/"
        },
        "id": "WtW3Ucjev215",
        "outputId": "14fd903a-2f0d-48a3-bf7a-ecc388b12865"
      },
      "outputs": [
        {
          "output_type": "execute_result",
          "data": {
            "text/plain": [
              "2562"
            ]
          },
          "metadata": {},
          "execution_count": 2
        }
      ],
      "source": [
        "(60 * 42) + 42\n"
      ]
    },
    {
      "cell_type": "markdown",
      "source": [],
      "metadata": {
        "id": "4aBDPezpzwWk"
      }
    },
    {
      "cell_type": "code",
      "source": [
        "10 / 1.6"
      ],
      "metadata": {
        "colab": {
          "base_uri": "https://localhost:8080/"
        },
        "id": "TRbChqXiXTMR",
        "outputId": "a2891694-4185-4c34-b1ac-9cc6e29c7c0e"
      },
      "execution_count": null,
      "outputs": [
        {
          "output_type": "execute_result",
          "data": {
            "text/plain": [
              "6.25"
            ]
          },
          "metadata": {},
          "execution_count": 4
        }
      ]
    },
    {
      "cell_type": "code",
      "source": [
        "x = (60 * 42) + 42\n",
        "print(x)"
      ],
      "metadata": {
        "colab": {
          "base_uri": "https://localhost:8080/"
        },
        "id": "J5b42G9-XZN_",
        "outputId": "c36e338f-0768-4102-bc94-1ceef63d8bd4"
      },
      "execution_count": null,
      "outputs": [
        {
          "output_type": "stream",
          "name": "stdout",
          "text": [
            "2562\n"
          ]
        }
      ]
    },
    {
      "cell_type": "code",
      "source": [
        "lari = (60 * 42) + 42\n",
        "mil = 10 / 1.6\n",
        "avg = lari / mil\n",
        "min_ave = avg / 60\n",
        "hour_ave = (60 / lari) * 10\n",
        "print(\"Your speed in miles per minutes and seconds is: \" , min_ave)\n",
        "print(\"Your speed in miles per hour is: \", hour_ave)\n"
      ],
      "metadata": {
        "colab": {
          "base_uri": "https://localhost:8080/"
        },
        "id": "s-LbGkPOXt4Y",
        "outputId": "54377900-f897-4346-e09d-b9097b1e6099"
      },
      "execution_count": null,
      "outputs": [
        {
          "output_type": "stream",
          "name": "stdout",
          "text": [
            "Your speed in miles per minutes and seconds is:  6.832\n",
            "Your speed in miles per hour is:  0.234192037470726\n"
          ]
        }
      ]
    }
  ]
}