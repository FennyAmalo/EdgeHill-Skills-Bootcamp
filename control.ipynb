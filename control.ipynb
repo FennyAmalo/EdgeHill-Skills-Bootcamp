{
  "nbformat": 4,
  "nbformat_minor": 0,
  "metadata": {
    "colab": {
      "provenance": [],
      "authorship_tag": "ABX9TyM0a+JmO4+Iq+CedRhw3TKg",
      "include_colab_link": true
    },
    "kernelspec": {
      "name": "python3",
      "display_name": "Python 3"
    },
    "language_info": {
      "name": "python"
    }
  },
  "cells": [
    {
      "cell_type": "markdown",
      "metadata": {
        "id": "view-in-github",
        "colab_type": "text"
      },
      "source": [
        "<a href=\"https://colab.research.google.com/github/FennyAmalo/EdgeHill-Skills-Bootcamp/blob/main/control.ipynb\" target=\"_parent\"><img src=\"https://colab.research.google.com/assets/colab-badge.svg\" alt=\"Open In Colab\"/></a>"
      ]
    },
    {
      "cell_type": "code",
      "execution_count": null,
      "metadata": {
        "id": "g0aG3He39WoK"
      },
      "outputs": [],
      "source": [
        "#michael's code\n",
        "\n",
        "def choose_action(s1, s2, s3, s4, t):\n",
        "    if s1 <= 0.1 or s1 <= 0.1 and s2 <= 0.1 and s4 <= 0.1 and not s3 <= 0.1:\n",
        "        return \"S\"\n",
        "    elif s2 <= 0.1 or s1 <= 0.1 and s2 <= 0.1 and s3 <= 0.1 and not s4 <= 0.1:\n",
        "        return \"W\"\n",
        "    elif s3 <= 0.1 or s2 <= 0.1 and s3 <= 0.1 and s4 <= 0.1 and not s1 <= 0.1:\n",
        "        return \"N\"\n",
        "    elif s4 <= 0.1 or s1 <= 0.1 and s3 <= 0.1 and s4 <= 0.1 and not s2 <= 0.1:\n",
        "        return \"E\"\n",
        "    elif s1 <= 0.1 and s2 <= 0.1:\n",
        "        return \"SW\"\n",
        "    elif s1 <= 0.1 and s3 <= 0.1:\n",
        "        return \"E or W\"\n",
        "    elif s1 <= 0.1 and s4 <= 0.1:\n",
        "        return \"SE\"\n",
        "    elif s2 <= 0.1 and s3 <= 0.1:\n",
        "        return \"NW\"\n",
        "    elif s2 <= 0.1 and s4 <= 0.1:\n",
        "        return \"N or S\"\n",
        "    elif s3 <= 0.1 and s4 <= 0.1:\n",
        "        return \"NE\"\n",
        "    elif s1 <= 0.1 and s2 <= 0.1 and s3 <= 0.1 and s4 <= 0.1:\n",
        "        return \"Trapped\"\n",
        "    else:\n",
        "        return \"Continue\""
      ]
    },
    {
      "cell_type": "code",
      "source": [
        "#philippa's code\n",
        "\n",
        "def roomba(s_1, s_2, s_3, s_4, t):\n",
        "    if s_1 <= t and s_2 <= t and s_3 <= t and s_4 <= t:\n",
        "        print('DJ Roomba is trapped!')\n",
        "    elif s_1 <= t and s_2 <= t and s_4 <= t:\n",
        "        print('DJ Roomba can go:', 'SE', 'S', 'SW')\n",
        "    elif s_1 <= t and s_2 <= t and s_3 <= t:\n",
        "        print('DJ Roomba can go:', 'SW', 'W', 'NW')\n",
        "    elif s_2 <= t and s_3 <= t and s_4 <= t:\n",
        "        print('DJ Roomba can go:', 'N', 'NE', 'NW')\n",
        "    elif s_3 and s_4 <= t and s_1 <= t:\n",
        "        print('DJ Roomba can go:', 'NE', 'E', 'SE')\n",
        "    elif s_1 <= t and s_2 <= t:\n",
        "        print('DJ Roomba can go:', 'SE', 'S', 'SW', 'W', 'NW')\n",
        "    elif s_1 <= t and s_3 <= t:\n",
        "        print('DJ Roomba can go:', 'NE', 'E', 'SE', 'SW', 'W', 'NW')\n",
        "    elif s_1 <= t and s_4 <= t:\n",
        "        print('DJ Roomba can go:', 'NE', 'E', 'SE', 'S', 'SW')\n",
        "    elif s_1 <= t:\n",
        "        print('DJ Roomba can go:', 'NE', 'E', 'SE', 'S', 'SW', 'W', 'NW')\n",
        "    elif s_2 <= t:\n",
        "        print('DJ Roomba can go:', 'NE', 'N', 'SE', 'S', 'SW', 'W', 'NW')\n",
        "    elif s_3 <= t:\n",
        "        print('DJ Roomba can go:', 'N', 'NE', 'E' 'SE', 'SW', 'W', 'NW')\n",
        "    elif s_4 <= t:\n",
        "        print('DJ Roomba can go:', 'N', 'NW', 'W', 'SW', 'S', 'SE', 'NE')\n",
        "    else:\n",
        "        print('DJ Roomba is not trapped')\n",
        "\n",
        "\n",
        "roomba(0.1, 3, 0.1, 0.1, 1)"
      ],
      "metadata": {
        "id": "DWIXfnt67Ykx"
      },
      "execution_count": null,
      "outputs": []
    },
    {
      "cell_type": "code",
      "source": [
        "# fenny's code\n",
        "\n"
      ],
      "metadata": {
        "id": "J1-xV0HkKr9x"
      },
      "execution_count": null,
      "outputs": []
    }
  ]
}