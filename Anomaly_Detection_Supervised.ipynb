{
  "nbformat": 4,
  "nbformat_minor": 0,
  "metadata": {
    "colab": {
      "provenance": [],
      "authorship_tag": "ABX9TyMRaEUHKtP/Bk14l0r86Dgu",
      "include_colab_link": true
    },
    "kernelspec": {
      "name": "python3",
      "display_name": "Python 3"
    },
    "language_info": {
      "name": "python"
    }
  },
  "cells": [
    {
      "cell_type": "markdown",
      "metadata": {
        "id": "view-in-github",
        "colab_type": "text"
      },
      "source": [
        "<a href=\"https://colab.research.google.com/github/FennyAmalo/EdgeHill-Skills-Bootcamp/blob/main/Anomaly_Detection_Supervised.ipynb\" target=\"_parent\"><img src=\"https://colab.research.google.com/assets/colab-badge.svg\" alt=\"Open In Colab\"/></a>"
      ]
    },
    {
      "cell_type": "code",
      "source": [
        "pip install pyod\n"
      ],
      "metadata": {
        "colab": {
          "base_uri": "https://localhost:8080/"
        },
        "id": "pIj78BkqyYrA",
        "outputId": "93ac7479-6239-4a0a-909d-202dd187855c"
      },
      "execution_count": null,
      "outputs": [
        {
          "output_type": "stream",
          "name": "stdout",
          "text": [
            "Looking in indexes: https://pypi.org/simple, https://us-python.pkg.dev/colab-wheels/public/simple/\n",
            "Collecting pyod\n",
            "  Downloading pyod-1.0.7.tar.gz (147 kB)\n",
            "\u001b[?25l\r\u001b[K     |██▏                             | 10 kB 17.5 MB/s eta 0:00:01\r\u001b[K     |████▍                           | 20 kB 22.3 MB/s eta 0:00:01\r\u001b[K     |██████▋                         | 30 kB 28.6 MB/s eta 0:00:01\r\u001b[K     |████████▉                       | 40 kB 33.1 MB/s eta 0:00:01\r\u001b[K     |███████████                     | 51 kB 37.1 MB/s eta 0:00:01\r\u001b[K     |█████████████▎                  | 61 kB 41.6 MB/s eta 0:00:01\r\u001b[K     |███████████████▌                | 71 kB 23.7 MB/s eta 0:00:01\r\u001b[K     |█████████████████▊              | 81 kB 23.0 MB/s eta 0:00:01\r\u001b[K     |████████████████████            | 92 kB 24.7 MB/s eta 0:00:01\r\u001b[K     |██████████████████████▏         | 102 kB 26.5 MB/s eta 0:00:01\r\u001b[K     |████████████████████████▍       | 112 kB 26.5 MB/s eta 0:00:01\r\u001b[K     |██████████████████████████▋     | 122 kB 26.5 MB/s eta 0:00:01\r\u001b[K     |████████████████████████████▉   | 133 kB 26.5 MB/s eta 0:00:01\r\u001b[K     |███████████████████████████████ | 143 kB 26.5 MB/s eta 0:00:01\r\u001b[K     |████████████████████████████████| 147 kB 26.5 MB/s \n",
            "\u001b[?25hRequirement already satisfied: joblib in /usr/local/lib/python3.8/dist-packages (from pyod) (1.2.0)\n",
            "Requirement already satisfied: matplotlib in /usr/local/lib/python3.8/dist-packages (from pyod) (3.2.2)\n",
            "Requirement already satisfied: numpy>=1.19 in /usr/local/lib/python3.8/dist-packages (from pyod) (1.21.6)\n",
            "Requirement already satisfied: numba>=0.51 in /usr/local/lib/python3.8/dist-packages (from pyod) (0.56.4)\n",
            "Requirement already satisfied: scipy>=1.5.1 in /usr/local/lib/python3.8/dist-packages (from pyod) (1.7.3)\n",
            "Requirement already satisfied: scikit_learn>=0.20.0 in /usr/local/lib/python3.8/dist-packages (from pyod) (1.0.2)\n",
            "Requirement already satisfied: six in /usr/local/lib/python3.8/dist-packages (from pyod) (1.15.0)\n",
            "Requirement already satisfied: statsmodels in /usr/local/lib/python3.8/dist-packages (from pyod) (0.12.2)\n",
            "Requirement already satisfied: llvmlite<0.40,>=0.39.0dev0 in /usr/local/lib/python3.8/dist-packages (from numba>=0.51->pyod) (0.39.1)\n",
            "Requirement already satisfied: importlib-metadata in /usr/local/lib/python3.8/dist-packages (from numba>=0.51->pyod) (5.1.0)\n",
            "Requirement already satisfied: setuptools in /usr/local/lib/python3.8/dist-packages (from numba>=0.51->pyod) (57.4.0)\n",
            "Requirement already satisfied: threadpoolctl>=2.0.0 in /usr/local/lib/python3.8/dist-packages (from scikit_learn>=0.20.0->pyod) (3.1.0)\n",
            "Requirement already satisfied: zipp>=0.5 in /usr/local/lib/python3.8/dist-packages (from importlib-metadata->numba>=0.51->pyod) (3.11.0)\n",
            "Requirement already satisfied: pyparsing!=2.0.4,!=2.1.2,!=2.1.6,>=2.0.1 in /usr/local/lib/python3.8/dist-packages (from matplotlib->pyod) (3.0.9)\n",
            "Requirement already satisfied: cycler>=0.10 in /usr/local/lib/python3.8/dist-packages (from matplotlib->pyod) (0.11.0)\n",
            "Requirement already satisfied: kiwisolver>=1.0.1 in /usr/local/lib/python3.8/dist-packages (from matplotlib->pyod) (1.4.4)\n",
            "Requirement already satisfied: python-dateutil>=2.1 in /usr/local/lib/python3.8/dist-packages (from matplotlib->pyod) (2.8.2)\n",
            "Requirement already satisfied: pandas>=0.21 in /usr/local/lib/python3.8/dist-packages (from statsmodels->pyod) (1.3.5)\n",
            "Requirement already satisfied: patsy>=0.5 in /usr/local/lib/python3.8/dist-packages (from statsmodels->pyod) (0.5.3)\n",
            "Requirement already satisfied: pytz>=2017.3 in /usr/local/lib/python3.8/dist-packages (from pandas>=0.21->statsmodels->pyod) (2022.6)\n",
            "Building wheels for collected packages: pyod\n",
            "  Building wheel for pyod (setup.py) ... \u001b[?25l\u001b[?25hdone\n",
            "  Created wheel for pyod: filename=pyod-1.0.7-py3-none-any.whl size=181101 sha256=722bef3aa092e54085a23ab247ebbacde1f9389bd825d6d93de82dc3d339e922\n",
            "  Stored in directory: /root/.cache/pip/wheels/f7/e2/c1/1c7fd8b261e72411f6509afb429c84532e40ddcd96074473f4\n",
            "Successfully built pyod\n",
            "Installing collected packages: pyod\n",
            "Successfully installed pyod-1.0.7\n"
          ]
        }
      ]
    },
    {
      "cell_type": "code",
      "execution_count": null,
      "metadata": {
        "id": "7Hf1dhhPxMyy"
      },
      "outputs": [],
      "source": [
        "# importing libraries\n",
        "\n",
        "import numpy as np\n",
        "from scipy import stats\n",
        "import matplotlib.pyplot as plt\n",
        "import matplotlib.font_manager\n",
        "from pyod.models.knn import KNN\n",
        "from pyod.utils.data import generate_data, get_outliers_inliers"
      ]
    },
    {
      "cell_type": "code",
      "source": [
        "# Creating the synthetic data\n",
        "\n",
        "# generating a random dataset with two features\n",
        "X_train, y_train = generate_data(n_train = 300, train_only = True,\n",
        "                                                   n_features = 2)\n",
        " \n",
        "# Setting the percentage of outliers\n",
        "outlier_fraction = 0.1\n",
        " \n",
        "# Storing the outliers and inliners in different numpy arrays\n",
        "X_outliers, X_inliers = get_outliers_inliers(X_train, y_train)\n",
        "n_inliers = len(X_inliers)\n",
        "n_outliers = len(X_outliers)\n",
        " \n",
        "# Separating the two features\n",
        "f1 = X_train[:, [0]].reshape(-1, 1)\n",
        "f2 = X_train[:, [1]].reshape(-1, 1)\n"
      ],
      "metadata": {
        "id": "DFXSuxKcympv"
      },
      "execution_count": null,
      "outputs": []
    },
    {
      "cell_type": "code",
      "source": [
        "# Visualising the data\n",
        "\n",
        "# Visualising the dataset\n",
        "# create a meshgrid\n",
        "xx, yy = np.meshgrid(np.linspace(-10, 10, 200),\n",
        "                     np.linspace(-10, 10, 200))\n",
        " \n",
        "# scatter plot\n",
        "plt.scatter(f1, f2)\n",
        "plt.xlabel('Feature 1')\n",
        "plt.ylabel('Feature 2')"
      ],
      "metadata": {
        "colab": {
          "base_uri": "https://localhost:8080/",
          "height": 296
        },
        "id": "DLBucPUvzHat",
        "outputId": "39137f26-6a3c-4849-c350-c3ec45c705e6"
      },
      "execution_count": null,
      "outputs": [
        {
          "output_type": "execute_result",
          "data": {
            "text/plain": [
              "Text(0, 0.5, 'Feature 2')"
            ]
          },
          "metadata": {},
          "execution_count": 5
        },
        {
          "output_type": "display_data",
          "data": {
            "text/plain": [
              "<Figure size 432x288 with 1 Axes>"
            ],
            "image/png": "[encoded data removed]"
          },
          "metadata": {
            "needs_background": "light"
          }
        }
      ]
    },
    {
      "cell_type": "code",
      "source": [
        "# Training and evaluating the model\n",
        "\n",
        "# Training the classifier\n",
        "clf = KNN(contamination = outlier_fraction)\n",
        "clf.fit(X_train, y_train)\n",
        " \n",
        "# You can print this to see all the prediction scores\n",
        "scores_pred = clf.decision_function(X_train)*-1\n",
        " \n",
        "y_pred = clf.predict(X_train)\n",
        "n_errors = (y_pred != y_train).sum()\n",
        "# Counting the number of errors\n",
        " \n",
        "print('The number of prediction errors are ' + str(n_errors))"
      ],
      "metadata": {
        "colab": {
          "base_uri": "https://localhost:8080/"
        },
        "id": "ZeTdOvlPzduy",
        "outputId": "2d85035a-897e-4fc0-d6a5-04ef6054f748"
      },
      "execution_count": null,
      "outputs": [
        {
          "output_type": "stream",
          "name": "stdout",
          "text": [
            "The number of prediction errors are 37\n"
          ]
        },
        {
          "output_type": "stream",
          "name": "stderr",
          "text": [
            "/usr/local/lib/python3.8/dist-packages/pyod/models/base.py:431: UserWarning: y should not be presented in unsupervised learning.\n",
            "  warnings.warn(\n"
          ]
        }
      ]
    },
    {
      "cell_type": "code",
      "source": [
        "# Visualising the predictions\n",
        "\n",
        "# threshold value to consider a\n",
        "# datapoint inlier or outlier\n",
        "threshold = stats.scoreatpercentile(scores_pred, 100 * outlier_fraction)\n",
        " \n",
        "# decision function calculates the raw\n",
        "# anomaly score for every point\n",
        "Z = clf.decision_function(np.c_[xx.ravel(), yy.ravel()]) * -1\n",
        "Z = Z.reshape(xx.shape)\n",
        " \n",
        "# fill blue colormap from minimum anomaly\n",
        "# score to threshold value\n",
        "subplot = plt.subplot(1, 2, 1)\n",
        "subplot.contourf(xx, yy, Z, levels = np.linspace(Z.min(),\n",
        "                  threshold, 10), cmap = plt.cm.Blues_r)\n",
        " \n",
        "# draw red contour line where anomaly\n",
        "# score is equal to threshold\n",
        "a = subplot.contour(xx, yy, Z, levels =[threshold],\n",
        "                     linewidths = 2, colors ='red')\n",
        " \n",
        "# fill orange contour lines where range of anomaly\n",
        "# score is from threshold to maximum anomaly score\n",
        "subplot.contourf(xx, yy, Z, levels =[threshold, Z.max()], colors ='orange')\n",
        " \n",
        "# scatter plot of inliers with white dots\n",
        "b = subplot.scatter(X_train[:-n_outliers, 0], X_train[:-n_outliers, 1],\n",
        "                                    c ='white', s = 20, edgecolor ='k')\n",
        " \n",
        "# scatter plot of outliers with black dots\n",
        "c = subplot.scatter(X_train[-n_outliers:, 0], X_train[-n_outliers:, 1],\n",
        "                                    c ='black', s = 20, edgecolor ='k')\n",
        "subplot.axis('tight')\n",
        " \n",
        "subplot.legend(\n",
        "    [a.collections[0], b, c],\n",
        "    ['learned decision function', 'true inliers', 'true outliers'],\n",
        "    prop = matplotlib.font_manager.FontProperties(size = 10),\n",
        "    loc ='lower right')\n",
        " \n",
        "subplot.set_title('K-Nearest Neighbours')\n",
        "subplot.set_xlim((-10, 10))\n",
        "subplot.set_ylim((-10, 10))"
      ],
      "metadata": {
        "colab": {
          "base_uri": "https://localhost:8080/",
          "height": 298
        },
        "id": "vtqxmSwfznit",
        "outputId": "ff07a6f2-d34a-405c-efa4-6d91dd8867e0"
      },
      "execution_count": null,
      "outputs": [
        {
          "output_type": "execute_result",
          "data": {
            "text/plain": [
              "(-10.0, 10.0)"
            ]
          },
          "metadata": {},
          "execution_count": 7
        },
        {
          "output_type": "display_data",
          "data": {
            "text/plain": [
              "<Figure size 432x288 with 1 Axes>"
            ],
            "image/png": "[encoded data removed]"
          },
          "metadata": {
            "needs_background": "light"
          }
        }
      ]
    },
    {
      "cell_type": "code",
      "source": [
        "# https://www.analyticsvidhya.com/blog/2019/02/outlier-detection-python-pyod/\n",
        "# https://towardsdatascience.com/introduction-to-anomaly-detection-c651f38ccc32#:~:text=The%20most%20common%20version%20of,behavior%20using%20an%20unlabeled%20dataset."
      ],
      "metadata": {
        "id": "6rFRrgzs1Lww"
      },
      "execution_count": null,
      "outputs": []
    }
  ]
}