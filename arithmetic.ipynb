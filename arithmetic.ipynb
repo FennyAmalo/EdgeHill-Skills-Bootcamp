{
  "nbformat": 4,
  "nbformat_minor": 0,
  "metadata": {
    "colab": {
      "provenance": [],
      "include_colab_link": true
    },
    "kernelspec": {
      "display_name": "Python 3",
      "language": "python",
      "name": "python3"
    },
    "language_info": {
      "codemirror_mode": {
        "name": "ipython",
        "version": 3
      },
      "file_extension": ".py",
      "mimetype": "text/x-python",
      "name": "python",
      "nbconvert_exporter": "python",
      "pygments_lexer": "ipython3",
      "version": "3.7.3"
    }
  },
  "cells": [
    {
      "cell_type": "markdown",
      "metadata": {
        "id": "view-in-github",
        "colab_type": "text"
      },
      "source": [
        "<a href=\"https://colab.research.google.com/github/FennyAmalo/EdgeHill-Skills-Bootcamp/blob/main/arithmetic.ipynb\" target=\"_parent\"><img src=\"https://colab.research.google.com/assets/colab-badge.svg\" alt=\"Open In Colab\"/></a>"
      ]
    },
    {
      "cell_type": "markdown",
      "metadata": {
        "id": "7bdg9MciSFs3"
      },
      "source": [
        "# Begginer's Python: Task One\n",
        "\n",
        "Author: Dr. Robert Lyon\n",
        "\n",
        "Contact: robert.lyon@edgehill.ac.uk (www.scienceguyrob.com)\n",
        "\n",
        "Institution: Edge Hill University\n",
        "\n",
        "Version: 1.0\n",
        "    \n",
        "## Code & License\n",
        "The code and the contents of this notebook are released under the GNU GENERAL PUBLIC LICENSE, Version 3, 29 June 2007. Any videos are exempt from this, please check the license provided by the video content owners if you would like to use them.\n",
        "\n",
        "## Overview\n",
        "\n",
        "This notebook has been written to help you complete your assessment task in Google Colab, instead of PyCharm. The instructions are exactly the same as in the assessment document.\n",
        "\n",
        "<br/>\n",
        "\n",
        "**You must follow my instructions exactly.**\n",
        "\n",
        "<br/>\n",
        "\n",
        "The cell below contains the code that **you need to edit**. Each time you make an edit, if you want to test it, you must do the following:\n",
        "\n",
        "<br/>\n",
        "\n",
        "1. Run the code in your edited cell first.\n",
        "2. Then run the helper code in a cell further down to test it.\n",
        "\n",
        "<br/>\n",
        "\n",
        "You must do this each time.\n",
        "\n",
        "<br/>\n",
        "\n",
        "This is the pattern you must follow each time - every single time you make an edit, run your code, then run the helper code. I'm going to say this again for complete clarity, as often students neglect to listen to me :)\n",
        "\n",
        "<br/>\n",
        "\n",
        "Edit your code in the cell below.\n",
        "\n",
        "<br/>\n",
        "\n",
        "Run your code in the cell below.\n",
        "\n",
        "<br/>\n",
        "\n",
        "Run the helper code in the cell (which is further down the notebook. If you code is working correctly, you'll be able to tell form the output of the help file.\n",
        "\n",
        "<br/>\n",
        "\n",
        "## Submitting your code\n",
        "\n",
        "1. Once finished editing your code, copy all the code from the cell.\n",
        "2. Paste that code into a new empty file - call that file arithmetic.py.\n",
        "3. Zip up the arithmetic.py as per the instructions in the coursework document and Blackboard.\n",
        "4. Submit the zip file to the submission Dropbox.\n",
        "\n",
        "<br/>\n",
        "\n",
        "\n"
      ]
    },
    {
      "cell_type": "markdown",
      "metadata": {
        "id": "TdiFaqjYULtQ"
      },
      "source": [
        "## CELL TO EDIT\n",
        "\n",
        "The cell directly below contains the code that you can submit. However to submit it, you must copy the contents of the cell to a new file called `arithmetic.py`."
      ]
    },
    {
      "cell_type": "code",
      "metadata": {
        "id": "ASynfRY9SBS1",
        "colab": {
          "base_uri": "https://localhost:8080/",
          "height": 131
        },
        "outputId": "772dff4d-cbe0-40f3-e733-d28bee73c17f"
      },
      "source": [
        "#! /usr/bin/env python\n",
        "\"\"\"\n",
        "This is free software: you can redistribute it and/or modify it under the terms\n",
        "of the GNU General Public License as published by the Free Software Foundation,\n",
        "either version 3 of the License, or (at your option) any later version. It is\n",
        "distributed in the hope that it will be useful, but WITHOUT ANY WARRANTY;\n",
        "without even the implied warranty of MERCHANTABILITY or FITNESS FOR A\n",
        "PARTICULAR PURPOSE.  See the GNU General Public License for more details.\n",
        "\n",
        "You should have received a copy of the GNU General Public License along with\n",
        "the code.  If not, see <http://www.gnu.org/licenses/>.\n",
        "\n",
        "File name: \tarithmetic.py\n",
        "Created:\tJune 18th, 2020\n",
        "Author:\tDr. Robert Lyon (lyonro@edgehill.ac.uk)\n",
        "\n",
        "Contact: lyonro@edgehill.ac.uk\n",
        "Web: www.edgehill.ac.uk/computerscience/people/academic-staff/robert-lyon/\n",
        "\n",
        "\"\"\"\n",
        "\n",
        "\n",
        "def add(v1, v2):\n",
        "    \"\"\"\n",
        "    Returns the arithmetic sum of two numbers.\n",
        "\n",
        "    :param v1: the first value.\n",
        "    :param v2: the second value.\n",
        "\n",
        "    :return: the sum of the numbers.\n",
        "    \"\"\"\n",
        "\n",
        "    # make a change here?\n",
        "    \n",
        "    v1 = 4.0\n",
        "    v2 = 6.0\n",
        "    return v1 + v2\n",
        "\n",
        "\n",
        "\n",
        "def subtract(v1, v2):\n",
        "    \"\"\"\n",
        "    Subtracts one number from another.\n",
        "\n",
        "    :param v1: the first value.\n",
        "    :param v2: the second value.\n",
        "\n",
        "    :return: the value of v1 minus the value of v2.\n",
        "    \"\"\"\n",
        "\n",
        "    # make a change here?\n",
        "\n",
        "    v1 = 8.0\n",
        "    v2 = 8.0\n",
        "    return v1 - v2\n",
        "     \n"
      ],
      "execution_count": null,
      "outputs": [
        {
          "output_type": "error",
          "ename": "SyntaxError",
          "evalue": "ignored",
          "traceback": [
            "\u001b[0;36m  File \u001b[0;32m\"<ipython-input-5-be31e1a8acd9>\"\u001b[0;36m, line \u001b[0;32m55\u001b[0m\n\u001b[0;31m    return v1 - v2\u001b[0m\n\u001b[0m                  ^\u001b[0m\n\u001b[0;31mSyntaxError\u001b[0m\u001b[0;31m:\u001b[0m 'return' outside function\n"
          ]
        }
      ]
    },
    {
      "cell_type": "markdown",
      "metadata": {
        "id": "TJw2XTxVUbZy"
      },
      "source": [
        "## HELPER CELL\n",
        "\n",
        "Run this after you make changes in your cell above."
      ]
    },
    {
      "cell_type": "code",
      "metadata": {
        "id": "KVifLyQBUigd",
        "colab": {
          "base_uri": "https://localhost:8080/"
        },
        "outputId": "bb4279e8-44f3-4f01-c707-976e824f5fe3"
      },
      "source": [
        "#! /usr/bin/env python\n",
        "\"\"\"\n",
        "This is free software: you can redistribute it and/or modify it under the terms\n",
        "of the GNU General Public License as published by the Free Software Foundation,\n",
        "either version 3 of the License, or (at your option) any later version. It is\n",
        "distributed in the hope that it will be useful, but WITHOUT ANY WARRANTY;\n",
        "without even the implied warranty of MERCHANTABILITY or FITNESS FOR A\n",
        "PARTICULAR PURPOSE.  See the GNU General Public License for more details.\n",
        "\n",
        "You should have received a copy of the GNU General Public License along with\n",
        "the code.  If not, see <http://www.gnu.org/licenses/>.\n",
        "\n",
        "Created:\tJune 18th, 2020\n",
        "Author:\tDr. Robert Lyon (lyonro@edgehill.ac.uk)\n",
        "\n",
        "Contact: lyonro@edgehill.ac.uk\n",
        "Web: www.edgehill.ac.uk/computerscience/people/academic-staff/robert-lyon/\n",
        "\n",
        "\"\"\"\n",
        "\n",
        "def main():\n",
        "    \"\"\"\n",
        "    The entry point for program execution.\n",
        "\n",
        "    :return: N/A\n",
        "    \"\"\"\n",
        "    print(\"Helper file for the practice - do not modify me!\")\n",
        "    print(\"The tests below show the input and expected output.\\r\\r\")\n",
        "\n",
        "    print(\"Test 1.\")\n",
        "    v1 = 4\n",
        "    v2 = 4\n",
        "    print(\"\\tv1 = \" + str(v1) + \" value of v1.\")\n",
        "    print(\"\\tv2 = \" + str(v2) + \" value of v2.\")\n",
        "    print(\"\\tExpected Output of v1 + v2 = 8\")\n",
        "    result = add(v1, v2)\n",
        "    print(\"\\tActual Output = \" + str(result))\n",
        "\n",
        "    print(\"\\nTest 2.\")\n",
        "    print(\"\\tv1 = \" + str(v1) + \" value of v1.\")\n",
        "    print(\"\\tv2 = \" + str(v2) + \" value of v2.\")\n",
        "    print(\"\\tExpected Output of v1 - v2 = 0\")\n",
        "    result = subtract(v1, v2)\n",
        "    print(\"\\tActual Output = \" + str(result))\n",
        "\n",
        "    result = subtract(v1=1, v2=2)\n",
        "    print(\"\\tActual Output = \" + str(result))\n",
        "\n",
        "\n",
        "\n",
        "if __name__ == \"__main__\":\n",
        "    # Executes the main method only if run as a script. Will not\n",
        "    # execute main() if only parts of this file are imported in\n",
        "    # to another file.\n",
        "    main()"
      ],
      "execution_count": null,
      "outputs": [
        {
          "output_type": "stream",
          "name": "stdout",
          "text": [
            "Helper file for the practice - do not modify me!\n",
            "The tests below show the input and expected output.\r\r\n",
            "Test 1.\n",
            "\tv1 = 4 value of v1.\n",
            "\tv2 = 4 value of v2.\n",
            "\tExpected Output of v1 + v2 = 8\n",
            "\tActual Output = 10.0\n",
            "\n",
            "Test 2.\n",
            "\tv1 = 4 value of v1.\n",
            "\tv2 = 4 value of v2.\n",
            "\tExpected Output of v1 - v2 = 0\n",
            "\tActual Output = None\n",
            "\tActual Output = None\n"
          ]
        }
      ]
    }
  ]
}