{
  "nbformat": 4,
  "nbformat_minor": 0,
  "metadata": {
    "colab": {
      "provenance": [],
      "authorship_tag": "ABX9TyPn3cIsuXN6TBKo0ejhjCLa",
      "include_colab_link": true
    },
    "kernelspec": {
      "name": "python3",
      "display_name": "Python 3"
    },
    "language_info": {
      "name": "python"
    }
  },
  "cells": [
    {
      "cell_type": "markdown",
      "metadata": {
        "id": "view-in-github",
        "colab_type": "text"
      },
      "source": [
        "<a href=\"https://colab.research.google.com/github/FennyAmalo/EdgeHill-Skills-Bootcamp/blob/main/AdvancedPython_W3_SupportDoc.ipynb\" target=\"_parent\"><img src=\"https://colab.research.google.com/assets/colab-badge.svg\" alt=\"Open In Colab\"/></a>"
      ]
    },
    {
      "cell_type": "code",
      "execution_count": null,
      "metadata": {
        "colab": {
          "base_uri": "https://localhost:8080/"
        },
        "id": "32dMtNv9F6lm",
        "outputId": "74a110b1-dde0-4058-8070-aa20ceda0657"
      },
      "outputs": [
        {
          "output_type": "stream",
          "name": "stdout",
          "text": [
            "Enter your first name g\n",
            "Enter your last name g\n",
            "your full name is g g\n"
          ]
        }
      ],
      "source": [
        "# Task 1: write a function that concatinates first and last name of user's input\n",
        "\n",
        "def firstlast (first, last):\n",
        "  first = input(\"Enter your first name \")\n",
        "  last = input(\"Enter your last name \")\n",
        "  full = first + \" \" + last\n",
        "\n",
        "  print(\"your full name is \" + full)\n",
        "\n",
        "firstlast(first, last)"
      ]
    },
    {
      "cell_type": "code",
      "source": [
        "# Task 2: write a function that accepts a string containing random text\n",
        "# it returns a count of number of vowels in that string\n",
        "# the value returned must be numerical\n",
        "# \n",
        "def random_text():\n",
        "  text = \"Alibaba\"\n",
        "  vowels = text.find(\"a\", \"e\", \"i\", \"o\", \"u\")\n",
        "  print(vowels.count(vowels))\n",
        "\n",
        "random_text()"
      ],
      "metadata": {
        "colab": {
          "base_uri": "https://localhost:8080/",
          "height": 322
        },
        "id": "uXJum-wSHzth",
        "outputId": "5ef67292-5e67-4da4-b569-40f985410900"
      },
      "execution_count": null,
      "outputs": [
        {
          "output_type": "error",
          "ename": "TypeError",
          "evalue": "ignored",
          "traceback": [
            "\u001b[0;31m---------------------------------------------------------------------------\u001b[0m",
            "\u001b[0;31mTypeError\u001b[0m                                 Traceback (most recent call last)",
            "\u001b[0;32m<ipython-input-3-933cde603fd7>\u001b[0m in \u001b[0;36m<module>\u001b[0;34m\u001b[0m\n\u001b[1;32m      8\u001b[0m   \u001b[0mprint\u001b[0m\u001b[0;34m(\u001b[0m\u001b[0mvowels\u001b[0m\u001b[0;34m.\u001b[0m\u001b[0mcount\u001b[0m\u001b[0;34m(\u001b[0m\u001b[0mvowels\u001b[0m\u001b[0;34m)\u001b[0m\u001b[0;34m)\u001b[0m\u001b[0;34m\u001b[0m\u001b[0;34m\u001b[0m\u001b[0m\n\u001b[1;32m      9\u001b[0m \u001b[0;34m\u001b[0m\u001b[0m\n\u001b[0;32m---> 10\u001b[0;31m \u001b[0mrandom_text\u001b[0m\u001b[0;34m(\u001b[0m\u001b[0;34m)\u001b[0m\u001b[0;34m\u001b[0m\u001b[0;34m\u001b[0m\u001b[0m\n\u001b[0m",
            "\u001b[0;32m<ipython-input-3-933cde603fd7>\u001b[0m in \u001b[0;36mrandom_text\u001b[0;34m()\u001b[0m\n\u001b[1;32m      5\u001b[0m \u001b[0;32mdef\u001b[0m \u001b[0mrandom_text\u001b[0m\u001b[0;34m(\u001b[0m\u001b[0;34m)\u001b[0m\u001b[0;34m:\u001b[0m\u001b[0;34m\u001b[0m\u001b[0;34m\u001b[0m\u001b[0m\n\u001b[1;32m      6\u001b[0m   \u001b[0mtext\u001b[0m \u001b[0;34m=\u001b[0m \u001b[0;34m\"Alibaba\"\u001b[0m\u001b[0;34m\u001b[0m\u001b[0;34m\u001b[0m\u001b[0m\n\u001b[0;32m----> 7\u001b[0;31m   \u001b[0mvowels\u001b[0m \u001b[0;34m=\u001b[0m \u001b[0mtext\u001b[0m\u001b[0;34m.\u001b[0m\u001b[0mfind\u001b[0m\u001b[0;34m(\u001b[0m\u001b[0;34m\"a\"\u001b[0m\u001b[0;34m,\u001b[0m \u001b[0;34m\"e\"\u001b[0m\u001b[0;34m,\u001b[0m \u001b[0;34m\"i\"\u001b[0m\u001b[0;34m,\u001b[0m \u001b[0;34m\"o\"\u001b[0m\u001b[0;34m,\u001b[0m \u001b[0;34m\"u\"\u001b[0m\u001b[0;34m)\u001b[0m\u001b[0;34m\u001b[0m\u001b[0;34m\u001b[0m\u001b[0m\n\u001b[0m\u001b[1;32m      8\u001b[0m   \u001b[0mprint\u001b[0m\u001b[0;34m(\u001b[0m\u001b[0mvowels\u001b[0m\u001b[0;34m.\u001b[0m\u001b[0mcount\u001b[0m\u001b[0;34m(\u001b[0m\u001b[0mvowels\u001b[0m\u001b[0;34m)\u001b[0m\u001b[0;34m)\u001b[0m\u001b[0;34m\u001b[0m\u001b[0;34m\u001b[0m\u001b[0m\n\u001b[1;32m      9\u001b[0m \u001b[0;34m\u001b[0m\u001b[0m\n",
            "\u001b[0;31mTypeError\u001b[0m: find() takes at most 3 arguments (5 given)"
          ]
        }
      ]
    },
    {
      "cell_type": "code",
      "source": [
        "# task 2 - solution\n",
        "\n",
        "def count_vowels(text):\n",
        "    vowels = ['a', 'e', 'i', 'o', 'u']\n",
        "    total = 0\n",
        "    for s in text:\n",
        "        if s in vowels:\n",
        "            total += 1\n",
        "    return total\n",
        "\n",
        "count_vowels"
      ],
      "metadata": {
        "colab": {
          "base_uri": "https://localhost:8080/"
        },
        "id": "nIryacpWgKSp",
        "outputId": "aa166992-62cc-4c51-fca0-99a925f74cf9"
      },
      "execution_count": null,
      "outputs": [
        {
          "output_type": "execute_result",
          "data": {
            "text/plain": [
              "<function __main__.count_vowels(text)>"
            ]
          },
          "metadata": {},
          "execution_count": 5
        }
      ]
    },
    {
      "cell_type": "code",
      "source": [
        "\n",
        "# task 3: a function that when a string contains binary bits described as 0 or 1,\n",
        "# it returns boolean values (True or False)\n",
        "# e.g.: for \"011\" it returns \"False True True\"\n",
        "\n",
        "def binarybits():\n",
        "  bits = input()\n",
        "  if bits == 0:\n",
        "    return False\n",
        "  elif bits == 1:\n",
        "    return True\n",
        "  else:\n",
        "    return \"This is an error\""
      ],
      "metadata": {
        "id": "7vYXX3pyggMv"
      },
      "execution_count": null,
      "outputs": []
    },
    {
      "cell_type": "code",
      "source": [
        "# task 3 - solution\n",
        "\n",
        "def bits_to_bools(n):\n",
        "    output = \"\"\n",
        "\n",
        "    for i in n:\n",
        "        if i == '1':\n",
        "            output += \"True, \"\n",
        "\n",
        "        elif i == '0':\n",
        "            output += \"False, \"\n",
        "\n",
        "    return output[0: len(output) - 2]"
      ],
      "metadata": {
        "id": "_lBheqlwhOEl"
      },
      "execution_count": null,
      "outputs": []
    },
    {
      "cell_type": "code",
      "source": [
        "# task 4: a function that takes an incorrectly input text\n",
        "# and remove the censoring by revealing the vowels\n",
        "# characters censored using * symbol\n",
        "# function must accept a censored string and a string containing the missing vowels (in the order they are missing)\n",
        "# e.g.: for \"R*b*rt\", it returns \"Robert\"\n",
        "\n",
        "def wrong_text(txt, vowels):\n",
        "  text = list(txt)\n",
        "  vowels = list(vowels)\n",
        "\n",
        "  for i in range(len(txt)):\n",
        "    if txt[i] == \"*\":\n",
        "      txt[i] = vowels\n",
        "      del vowels[0]\n",
        "\n",
        "  return \"\".join(txt)\n",
        "  "
      ],
      "metadata": {
        "id": "1zcSIQfAhcoV"
      },
      "execution_count": null,
      "outputs": []
    },
    {
      "cell_type": "code",
      "source": [
        "# task  4 - solution\n",
        "\n",
        "def uncensor(txt, vowels):\n",
        "\n",
        "    txt = list(txt)\n",
        "    vowels = list(vowels)\n",
        "\n",
        "    for i in range(len(txt)):\n",
        "\n",
        "        if txt[i] == \"*\":\n",
        "\n",
        "            txt[i] = vowels[0]\n",
        "\n",
        "            del vowels[0]\n",
        "\n",
        "    return \"\".join(txt)"
      ],
      "metadata": {
        "id": "2vx572POjtZn"
      },
      "execution_count": null,
      "outputs": []
    }
  ]
}