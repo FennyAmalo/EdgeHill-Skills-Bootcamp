{
  "nbformat": 4,
  "nbformat_minor": 0,
  "metadata": {
    "colab": {
      "provenance": [],
      "authorship_tag": "ABX9TyOWXA7SqoFPXsDal4C9GktR",
      "include_colab_link": true
    },
    "kernelspec": {
      "name": "python3",
      "display_name": "Python 3"
    },
    "language_info": {
      "name": "python"
    }
  },
  "cells": [
    {
      "cell_type": "markdown",
      "metadata": {
        "id": "view-in-github",
        "colab_type": "text"
      },
      "source": [
        "<a href=\"https://colab.research.google.com/github/FennyAmalo/EdgeHill-Skills-Bootcamp/blob/main/Advanced_Python_Week_2_Support_Codes.ipynb\" target=\"_parent\"><img src=\"https://colab.research.google.com/assets/colab-badge.svg\" alt=\"Open In Colab\"/></a>"
      ]
    },
    {
      "cell_type": "code",
      "execution_count": null,
      "metadata": {
        "id": "zd8DMWCbjvom"
      },
      "outputs": [],
      "source": [
        "'''\n",
        "this function reads an integer value, and return a string comprised of dashes representing the number.\n",
        "E.g.: if the input is 5, the output should be \"-----\"\n",
        "Use loop\n",
        "'''\n",
        "\n",
        "def dashes(input):\n",
        "  input = True\n",
        "  while input < :\n",
        "    print(\"-\")\n",
        "    input += 1\n"
      ]
    },
    {
      "cell_type": "code",
      "source": [
        "# all task solutions\n",
        "\n",
        "def main():\n",
        "    \"\"\"\n",
        "    The entry point for program execution.\n",
        "\n",
        "    :return: N/A\n",
        "    \"\"\"\n",
        "\n",
        "    print(\"Hyphenator example...\")\n",
        "    print(\"Convert 1 to hyphens: \", num_to_hyphens(1))\n",
        "    print(\"Convert 2 to hyphens: \", num_to_hyphens(2))\n",
        "    print(\"Convert 5 to hyphens: \", num_to_hyphens(5))\n",
        "\n",
        "    # Create a list\n",
        "    numbers = [1, 5, 6, 8, 9]\n",
        "\n",
        "    print(\"Additive inverse example...\")\n",
        "    print(\"Get additive inverses of the numbers [1, 5, 6, 8, 9]: \", get_additive_inverse(numbers))\n",
        "\n",
        "    print(\"Sum of squares example...\")\n",
        "    print(\"Sum of squares of the first 3 integers: \", squares_sum(3))\n",
        "\n",
        "    print(\"Progress days example...\")\n",
        "    print(\"Days of progress with this input [1,2,4,5,2,1,1,2]: \", progress_days([1,2,4,5,2,1,1,2]))\n",
        "\n",
        "\n",
        "def get_additive_inverse(numbers):\n",
        "    output = \"\"\n",
        "    for n in numbers:\n",
        "        output += str(-n) + \", \"\n",
        "\n",
        "    return output\n",
        "\n",
        "\n",
        "def num_to_hyphens(num):\n",
        "    output = \"\"\n",
        "    for x in range(num):\n",
        "        output += \"-\"\n",
        "\n",
        "    return output\n",
        "\n",
        "\n",
        "def squares_sum(n):\n",
        "    sum_sqaures = 0\n",
        "    for i in range(1, n + 1):\n",
        "        sum_sqaures += i ** 2\n",
        "    return sum_sqaures\n",
        "\n",
        "\n",
        "def progress_days(runs):\n",
        "    result = 0\n",
        "    for i in range(1, len(runs)):\n",
        "        if runs[i] > runs[i - 1]:\n",
        "            result += 1\n",
        "    return result\n",
        "\n",
        "\n",
        "if __name__ == \"__main__\":\n",
        "    # Executes the main method only if run as a script. Will not\n",
        "    # execute main() if only parts of this file are imported in\n",
        "    # to another file.\n",
        "    main()\n"
      ],
      "metadata": {
        "colab": {
          "base_uri": "https://localhost:8080/"
        },
        "id": "BfsD0UdindZH",
        "outputId": "def70d17-a3d4-41f1-e9d2-ae2c63400f48"
      },
      "execution_count": null,
      "outputs": [
        {
          "output_type": "stream",
          "name": "stdout",
          "text": [
            "Hyphenator example...\n",
            "Convert 1 to hyphens:  -\n",
            "Convert 2 to hyphens:  --\n",
            "Convert 5 to hyphens:  -----\n",
            "Additive inverse example...\n",
            "Get additive inverses of the numbers [1, 5, 6, 8, 9]:  -1, -5, -6, -8, -9, \n",
            "Sum of squares example...\n",
            "Sum of squares of the first 3 integers:  14\n",
            "Progress days example...\n",
            "Days of progress with this input [1,2,4,5,2,1,1,2]:  4\n"
          ]
        }
      ]
    },
    {
      "cell_type": "code",
      "source": [
        "# task 2 - computes an additive inverse of a list of numbers\n",
        "# e.g.: [1,2,3,4] returns [-1, -2, -3, -4]\n",
        "\n",
        "def get_additive_inverse(numbers):\n",
        "    output = \"\"\n",
        "    for n in numbers:\n",
        "        output += str(-n) + \", \"\n",
        "\n",
        "    return output\n",
        "\n",
        "get_additive_inverse([1,2,3,4])\n",
        "\n"
      ],
      "metadata": {
        "colab": {
          "base_uri": "https://localhost:8080/",
          "height": 35
        },
        "id": "Y3SqdDN1nvKI",
        "outputId": "a276581d-7a3c-4edf-e86f-448e1f010a73"
      },
      "execution_count": null,
      "outputs": [
        {
          "output_type": "execute_result",
          "data": {
            "text/plain": [
              "'-1, -2, -3, -4, '"
            ],
            "application/vnd.google.colaboratory.intrinsic+json": {
              "type": "string"
            }
          },
          "metadata": {},
          "execution_count": 4
        }
      ]
    }
  ]
}